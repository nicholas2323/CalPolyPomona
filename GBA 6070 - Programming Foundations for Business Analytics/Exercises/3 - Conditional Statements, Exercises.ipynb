{
 "cells": [
  {
   "cell_type": "code",
   "execution_count": null,
   "id": "e931886a-3ac1-4875-ab23-60ff21e3c40a",
   "metadata": {},
   "outputs": [],
   "source": []
  }
 ],
 "metadata": {
  "kernelspec": {
   "display_name": "",
   "name": ""
  },
  "language_info": {
   "name": ""
  }
 },
 "nbformat": 4,
 "nbformat_minor": 5
}
