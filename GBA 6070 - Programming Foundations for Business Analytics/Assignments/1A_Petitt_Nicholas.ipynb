{
 "cells": [
  {
   "cell_type": "code",
   "execution_count": 1,
   "id": "7561f2b5",
   "metadata": {},
   "outputs": [
    {
     "name": "stdout",
     "output_type": "stream",
     "text": [
      "Enter a first name:John\n",
      "Enter a last name: Smith\n",
      "Enter a birth year: 2000\n",
      "Hello John Smith\n",
      "Your age is 25\n"
     ]
    }
   ],
   "source": [
    "print('Enter a first name:John')\n",
    "print('Enter a last name: Smith')\n",
    "print('Enter a birth year: 2000')\n",
    "print('Hello John Smith')\n",
    "print('Your age is 25')"
   ]
  },
  {
   "cell_type": "code",
   "execution_count": 2,
   "id": "4714f059",
   "metadata": {},
   "outputs": [
    {
     "name": "stdout",
     "output_type": "stream",
     "text": [
      "Enter a length: 2.5\n",
      "Enter a width: 2\n",
      "Enter a height: 1.5\n",
      "Surface area is xxx\n",
      "Volume is xxx\n"
     ]
    }
   ],
   "source": [
    "print('Enter a length: 2.5')\n",
    "print('Enter a width: 2')\n",
    "print('Enter a height: 1.5')\n",
    "print('Surface area is xxx')\n",
    "print('Volume is xxx')"
   ]
  },
  {
   "cell_type": "code",
   "execution_count": 4,
   "id": "3347baff",
   "metadata": {
    "scrolled": true
   },
   "outputs": [
    {
     "name": "stdout",
     "output_type": "stream",
     "text": [
      "Enter a unit price: 12.5\n",
      "Enter a quantity: 35\n",
      "Total discount is $xxx\n",
      "Total amount is $xxx\n"
     ]
    }
   ],
   "source": [
    "print('Enter a unit price: 12.5')\n",
    "print('Enter a quantity: 35')\n",
    "print('Total discount is $xxx')\n",
    "print('Total amount is $xxx')"
   ]
  },
  {
   "cell_type": "code",
   "execution_count": null,
   "id": "132f8aa1",
   "metadata": {},
   "outputs": [],
   "source": []
  }
 ],
 "metadata": {
  "kernelspec": {
   "display_name": "Python 3 (ipykernel)",
   "language": "python",
   "name": "python3"
  },
  "language_info": {
   "codemirror_mode": {
    "name": "ipython",
    "version": 3
   },
   "file_extension": ".py",
   "mimetype": "text/x-python",
   "name": "python",
   "nbconvert_exporter": "python",
   "pygments_lexer": "ipython3",
   "version": "3.11.11"
  }
 },
 "nbformat": 4,
 "nbformat_minor": 5
}
